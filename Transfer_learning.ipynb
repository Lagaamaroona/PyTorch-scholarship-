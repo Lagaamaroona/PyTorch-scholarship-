{
  "nbformat": 4,
  "nbformat_minor": 0,
  "metadata": {
    "colab": {
      "name": "Transfer_learning.ipynb",
      "version": "0.3.2",
      "provenance": []
    },
    "kernelspec": {
      "name": "python3",
      "display_name": "Python 3"
    },
    "accelerator": "GPU"
  },
  "cells": [
    {
      "metadata": {
        "id": "I3og4QUJPjKh",
        "colab_type": "code",
        "colab": {}
      },
      "cell_type": "code",
      "source": [
        "\n",
        "%matplotlib inline\n",
        "%config InlineBackend.figure_format = 'retina'\n",
        "\n",
        "import matplotlib.pyplot as plt\n",
        "\n",
        "import torch\n",
        "from torch import nn\n",
        "from torch import optim\n",
        "import torch.nn.functional as F\n",
        "from torchvision import datasets, transforms, models"
      ],
      "execution_count": 0,
      "outputs": []
    },
    {
      "metadata": {
        "id": "w09DTbb6RtCh",
        "colab_type": "text"
      },
      "cell_type": "markdown",
      "source": [
        ""
      ]
    },
    {
      "metadata": {
        "id": "quTnZrn9RMnk",
        "colab_type": "code",
        "colab": {
          "base_uri": "https://localhost:8080/",
          "height": 54
        },
        "outputId": "206d95a0-ba44-4ef1-af00-0fe6511f65d4"
      },
      "cell_type": "code",
      "source": [
        "# http://pytorch.org/\n",
        "from os.path import exists\n",
        "from wheel.pep425tags import get_abbr_impl, get_impl_ver, get_abi_tag\n",
        "platform = '{}{}-{}'.format(get_abbr_impl(), get_impl_ver(), get_abi_tag())\n",
        "cuda_output = !ldconfig -p|grep cudart.so|sed -e 's/.*\\.\\([0-9]*\\)\\.\\([0-9]*\\)$/cu\\1\\2/'\n",
        "accelerator = cuda_output[0] if exists('/dev/nvidia0') else 'cpu'\n",
        "\n",
        "!pip install -q http://download.pytorch.org/whl/{accelerator}/torch-0.4.1-{platform}-linux_x86_64.whl torchvision\n",
        "import torch"
      ],
      "execution_count": 2,
      "outputs": [
        {
          "output_type": "stream",
          "text": [
            "tcmalloc: large alloc 1073750016 bytes == 0x591e8000 @  0x7ff798abd2a4 0x591a07 0x5b5d56 0x502e9a 0x506859 0x502209 0x502f3d 0x506859 0x504c28 0x502540 0x502f3d 0x506859 0x504c28 0x502540 0x502f3d 0x506859 0x504c28 0x502540 0x502f3d 0x507641 0x502209 0x502f3d 0x506859 0x504c28 0x502540 0x502f3d 0x507641 0x504c28 0x502540 0x502f3d 0x507641\n"
          ],
          "name": "stdout"
        }
      ]
    },
    {
      "metadata": {
        "id": "WcU7MdC9Qprl",
        "colab_type": "code",
        "outputId": "01ccb0fa-a115-4fbd-a2cb-7482701cc4e2",
        "colab": {
          "base_uri": "https://localhost:8080/",
          "height": 306
        }
      },
      "cell_type": "code",
      "source": [
        "!wget https://s3.amazonaws.com/content.udacity-data.com/nd089/Cat_Dog_data.zip 'Cat_Dog_data'"
      ],
      "execution_count": 3,
      "outputs": [
        {
          "output_type": "stream",
          "text": [
            "--2019-01-01 16:39:08--  https://s3.amazonaws.com/content.udacity-data.com/nd089/Cat_Dog_data.zip\n",
            "Resolving s3.amazonaws.com (s3.amazonaws.com)... 52.216.232.29\n",
            "Connecting to s3.amazonaws.com (s3.amazonaws.com)|52.216.232.29|:443... connected.\n",
            "HTTP request sent, awaiting response... 200 OK\n",
            "Length: 580495262 (554M) [application/zip]\n",
            "Saving to: ‘Cat_Dog_data.zip’\n",
            "\n",
            "Cat_Dog_data.zip    100%[===================>] 553.60M  89.0MB/s    in 6.4s    \n",
            "\n",
            "2019-01-01 16:39:15 (86.2 MB/s) - ‘Cat_Dog_data.zip’ saved [580495262/580495262]\n",
            "\n",
            "--2019-01-01 16:39:15--  http://cat_dog_data/\n",
            "Resolving cat_dog_data (cat_dog_data)... failed: Name or service not known.\n",
            "wget: unable to resolve host address ‘cat_dog_data’\n",
            "FINISHED --2019-01-01 16:39:15--\n",
            "Total wall clock time: 6.7s\n",
            "Downloaded: 1 files, 554M in 6.4s (86.2 MB/s)\n"
          ],
          "name": "stdout"
        }
      ]
    },
    {
      "metadata": {
        "id": "81UUyryESAN2",
        "colab_type": "code",
        "colab": {}
      },
      "cell_type": "code",
      "source": [
        "!unzip Cat_Dog_data.zip"
      ],
      "execution_count": 0,
      "outputs": []
    },
    {
      "metadata": {
        "id": "ea_kRpSzP_BQ",
        "colab_type": "code",
        "colab": {}
      },
      "cell_type": "code",
      "source": [
        "data_dir = 'Cat_Dog_data'\n",
        "\n",
        "# TODO: Define transforms for the training data and testing data\n",
        "data_transforms = {\n",
        "    \"train\": transforms.Compose([transforms.Resize(255),\n",
        "                                transforms.RandomRotation(30),\n",
        "                                transforms.RandomResizedCrop(224),\n",
        "                                transforms.RandomHorizontalFlip(),\n",
        "                                transforms.ToTensor(),\n",
        "                                transforms.Normalize((0.485, 0.456, 0.406),\n",
        "                                                    (0.229, 0.224, 0.225))\n",
        "                                ]),\n",
        "    \"test\": transforms.Compose([[transforms.Resize(255),\n",
        "                                 transforms.CenterCrop(224),\n",
        "                                 transforms.ToTensor(),\n",
        "                                transforms.Normalize([0.485, 0.456, 0.406],\n",
        "                                                      [0.229, 0.224, 0.225])]])\n",
        "    \n",
        "}\n",
        "\n",
        "# Pass transforms in here, then run the next cell to see how the transforms look\n",
        "train_data = datasets.ImageFolder(data_dir + '/train', transform=data_transforms[\"train\"])\n",
        "test_data = datasets.ImageFolder(data_dir + '/test', transform=data_transforms[\"test\"])\n",
        "\n",
        "trainloader = torch.utils.data.DataLoader(train_data, batch_size=200, shuffle=True)\n",
        "testloader = torch.utils.data.DataLoader(train_data, batch_size = 100, shuffle=False)"
      ],
      "execution_count": 0,
      "outputs": []
    },
    {
      "metadata": {
        "id": "RP65-PytQEzz",
        "colab_type": "code",
        "outputId": "1e00cd19-d77f-4781-bf93-502261189655",
        "colab": {
          "base_uri": "https://localhost:8080/",
          "height": 71
        }
      },
      "cell_type": "code",
      "source": [
        "model = models.densenet201(pretrained=True)"
      ],
      "execution_count": 13,
      "outputs": [
        {
          "output_type": "stream",
          "text": [
            "/usr/local/lib/python3.6/dist-packages/torchvision/models/densenet.py:212: UserWarning: nn.init.kaiming_normal is now deprecated in favor of nn.init.kaiming_normal_.\n",
            "  nn.init.kaiming_normal(m.weight.data)\n"
          ],
          "name": "stderr"
        }
      ]
    },
    {
      "metadata": {
        "id": "df6RRUx8QHiG",
        "colab_type": "code",
        "colab": {}
      },
      "cell_type": "code",
      "source": [
        "# Freeze parameters so we don't backprop through them\n",
        "for param in model.parameters():\n",
        "    param.requires_grad = False\n",
        "\n",
        "from collections import OrderedDict\n",
        "classifier = nn.Sequential(OrderedDict([\n",
        "                          ('fc1', nn.Linear(1920, 500)),\n",
        "                          ('relu', nn.ReLU()),\n",
        "                          ('fc2', nn.Linear(500, 2)),\n",
        "                          ('output', nn.LogSoftmax(dim=1))\n",
        "                          ]))\n",
        "    \n",
        "model.classifier = classifier"
      ],
      "execution_count": 0,
      "outputs": []
    },
    {
      "metadata": {
        "id": "3Ju8VoGEQLRN",
        "colab_type": "code",
        "outputId": "65e66bef-47f8-460c-e204-79acbbd7cc2b",
        "colab": {
          "base_uri": "https://localhost:8080/",
          "height": 34
        }
      },
      "cell_type": "code",
      "source": [
        "device = torch.device(\"cuda:0\" if torch.cuda.is_available() else \"cpu\")\n",
        "model.to(device)\n",
        "criterion = nn.NLLLoss()\n",
        "optimizer = optim.Adam(model.parameters(), lr=0.001)\n",
        "print(train_data.class_to_idx)\n",
        "model.class_to_idx = train_data.class_to_idx\n"
      ],
      "execution_count": 8,
      "outputs": [
        {
          "output_type": "stream",
          "text": [
            "{'cat': 0, 'dog': 1}\n"
          ],
          "name": "stdout"
        }
      ]
    },
    {
      "metadata": {
        "id": "gj3ScqJjGc47",
        "colab_type": "code",
        "colab": {}
      },
      "cell_type": "code",
      "source": [
        "def eval_model(testloader, model, criterion, device, dots=False, is_gpu=True):\n",
        "    running_loss = 0 \n",
        "    accuracy = 0\n",
        "    \n",
        "    model.eval()\n",
        "    model.cuda()\n",
        "    for ii, (inputs, labels) in enumerate(testloader): \n",
        "        inputs, labels = inputs.to(device), labels.to(device)\n",
        "        \n",
        "        output = model.forward(inputs)\n",
        "        running_loss += criterion(output, labels).item()\n",
        "        ps = torch.exp(output)\n",
        "        equality = (labels.data == ps.max(1)[1])\n",
        "        # I usetype_as(torch.FloatTensor()) based on a code \n",
        "        # Caleb Josue Ruiz Torres posted in the slank channel \n",
        "        accuracy += equality.type_as(torch.FloatTensor()).mean()  \n",
        "        \n",
        "    return (running_loss/len(testloader)),(accuracy/len(testloader))\n",
        "  "
      ],
      "execution_count": 0,
      "outputs": []
    },
    {
      "metadata": {
        "id": "54BTbHloQPyw",
        "colab_type": "code",
        "outputId": "27fb7618-2b2e-4016-a00f-53b1aeaccd41",
        "colab": {
          "base_uri": "https://localhost:8080/",
          "height": 51
        }
      },
      "cell_type": "code",
      "source": [
        "def do_deep_training():\n",
        "    is_gpu = True \n",
        "    model.cuda()\n",
        "    epochs = 2\n",
        "    steps = 0\n",
        "    print_every = 100\n",
        "    for epoch in range(epochs):\n",
        "        model.train()\n",
        "        model.cuda()\n",
        "        running_loss = 0\n",
        "        \n",
        "        if epoch == 2:\n",
        "          for ii, param in enumerate(model.parameters()):\n",
        "            if ii > 500:\n",
        "              param.requires_grad = True\n",
        "            else:\n",
        "              param.requires_grad = False\n",
        "\n",
        "            \n",
        "        \n",
        "        for images, labels in trainloader:\n",
        "            steps += 1\n",
        "            \n",
        "            images, labels = images.to(device), labels.to(device)\n",
        "            \n",
        "            optimizer.zero_grad()\n",
        "            \n",
        "            output = model.forward(images)\n",
        "            loss = criterion(output, labels)\n",
        "            loss.backward()\n",
        "            optimizer.step()   \n",
        "            \n",
        "            running_loss += loss.item()\n",
        "            if steps % print_every == 0:\n",
        "                model.eval()\n",
        "                # Make sure network is in eval mode for inference\n",
        "                print(\"Epoch: {}/{}.. \".format(epoch+1, epochs),\n",
        "                      \"Training Loss: {:.3f}.. \".format(running_loss/print_every),)\n",
        "\n",
        "                running_loss = 0\n",
        "           \n",
        "do_deep_training()\n"
      ],
      "execution_count": 10,
      "outputs": [
        {
          "output_type": "stream",
          "text": [
            "Epoch: 1/2..  Training Loss: 0.181.. \n",
            "Epoch: 2/2..  Training Loss: 0.117.. \n"
          ],
          "name": "stdout"
        }
      ]
    },
    {
      "metadata": {
        "id": "2WZZr_iPM_XJ",
        "colab_type": "code",
        "outputId": "8352c264-c017-4b1e-afcf-2220fe909743",
        "colab": {
          "base_uri": "https://localhost:8080/",
          "height": 34
        }
      },
      "cell_type": "code",
      "source": [
        "# we will verify that GPU is enabled for this notebook\n",
        "# following should print: CUDA is available!  Training on GPU ...\n",
        "# \n",
        "# if it prints otherwise, then you need to enable GPU: \n",
        "# from Menu > Runtime > Change Runtime Type > Hardware Accelerator > GPU\n",
        "\n",
        "import torch\n",
        "import numpy as np\n",
        "\n",
        "# check if CUDA is available\n",
        "train_on_gpu = torch.cuda.is_available()\n",
        "\n",
        "if not train_on_gpu:\n",
        "    print('CUDA is not available.  Training on CPU ...')\n",
        "else:\n",
        "    print('CUDA is available!  Training on GPU ...')"
      ],
      "execution_count": 11,
      "outputs": [
        {
          "output_type": "stream",
          "text": [
            "CUDA is available!  Training on GPU ...\n"
          ],
          "name": "stdout"
        }
      ]
    },
    {
      "metadata": {
        "id": "dLxHjCL7S78X",
        "colab_type": "code",
        "outputId": "46225351-3d54-4fef-a5a1-7b67e1784c33",
        "colab": {
          "base_uri": "https://localhost:8080/",
          "height": 34
        }
      },
      "cell_type": "code",
      "source": [
        "device = torch.device(\"cuda:0\" if torch.cuda.is_available() else \"cpu\")\n",
        "model.eval()\n",
        "correct = 0\n",
        "total = 0\n",
        "with torch.no_grad():\n",
        "    for images, labels in testloader:\n",
        "        images, labels = images.to(device), labels.to(device)\n",
        "        \n",
        "        outputs = model.forward(images)\n",
        "        _, predicted = torch.max(outputs.data, 1)\n",
        "        total += labels.size(0)\n",
        "        correct += (predicted == labels).sum().item()\n",
        "\n",
        "print('Accuracy of the network on the 10000 test images: %d %%' % (100 * correct / total))\n"
      ],
      "execution_count": 12,
      "outputs": [
        {
          "output_type": "stream",
          "text": [
            "Accuracy of the network on the 10000 test images: 95 %\n"
          ],
          "name": "stdout"
        }
      ]
    }
  ]
}